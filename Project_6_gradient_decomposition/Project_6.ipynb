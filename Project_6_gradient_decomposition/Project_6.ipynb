{
 "cells": [
  {
   "cell_type": "markdown",
   "metadata": {},
   "source": [
    "# Разложение матриц градиентным методом"
   ]
  },
  {
   "cell_type": "markdown",
   "metadata": {},
   "source": [
    "Цель задания: В ходе реализации [разложения Таккера](https://proceedings.neurips.cc/paper/2018/file/45a766fa266ea2ebeb6680fa139d2a3d-Paper.pdf) градиентным методом освоить pyTorch и реализовать подходы оптимизации параметров модели (в отсутствии готовых решений)."
   ]
  },
  {
   "cell_type": "markdown",
   "metadata": {},
   "source": [
    "[Описание алгоритма канонического разложения](https://www.alexejgossmann.com/tensor_decomposition_tucker/) - само аналитическое разложение реализовывать не будем"
   ]
  },
  {
   "cell_type": "code",
   "execution_count": 1,
   "metadata": {},
   "outputs": [
    {
     "data": {
      "text/plain": [
       "<torch._C.Generator at 0x1219e38f0>"
      ]
     },
     "execution_count": 1,
     "metadata": {},
     "output_type": "execute_result"
    }
   ],
   "source": [
    "import time\n",
    "import torch\n",
    "import numpy as np\n",
    "\n",
    "from sklearn.metrics import mean_squared_error\n",
    "\n",
    "torch.manual_seed(0)"
   ]
  },
  {
   "cell_type": "markdown",
   "metadata": {},
   "source": [
    "## 1 Создадим 3х мерный тензор\n",
    "Размер тензора не меньше 100 по каждой из размерностей.\n",
    "\n",
    "Заполним случайными целыми числами в диапазоне от 0 до 9."
   ]
  },
  {
   "cell_type": "markdown",
   "metadata": {},
   "source": [
    "*Примечание*: разложение будет корректно работать со случайным тензором, только если изначально создавать случайные ядро и матрицы, а потом по ним формировать тензор. Работаем с типом *torch.Tensor.double*."
   ]
  },
  {
   "cell_type": "code",
   "execution_count": 2,
   "metadata": {},
   "outputs": [],
   "source": [
    "# Создадим тензор: размер тензора и r задаётся\n",
    "def get_tensor(size=(100,200,150), r=10):\n",
    "  # data - тензор с заданной размерностью\n",
    "  # U - список матриц\n",
    "  # G - ядро разложения\n",
    "  core_shape = (10, 10, 10)\n",
    "  G = torch.rand(core_shape, dtype=torch.double)\n",
    "\n",
    "  U = []\n",
    "  for mode_size, core_dim in zip(size, core_shape):\n",
    "    factor_matrix = torch.rand((mode_size, core_dim), dtype=torch.double)\n",
    "    U.append(factor_matrix)\n",
    "\n",
    "  data = G.clone()\n",
    "  for mode, factor_matrix in enumerate(U):\n",
    "    data = torch.tensordot(data, factor_matrix, dims=([0], [1]))\n",
    "\n",
    "  data = data.round().clamp(0, r-1)\n",
    "\n",
    "  data = data.to(torch.double)\n",
    "\n",
    "  return data, U, G"
   ]
  },
  {
   "cell_type": "markdown",
   "metadata": {},
   "source": [
    "Сгенерируем тензор и добавим к нему случайный шум с размерностью *1e-2*"
   ]
  },
  {
   "cell_type": "code",
   "execution_count": 3,
   "metadata": {},
   "outputs": [],
   "source": [
    "size = (100, 200, 300)\n",
    "core_shape = (10, 10, 10)\n",
    "r = 10"
   ]
  },
  {
   "cell_type": "code",
   "execution_count": 4,
   "metadata": {},
   "outputs": [
    {
     "data": {
      "text/plain": [
       "(torch.Size([100, 200, 300]),\n",
       " [torch.Size([100, 10]), torch.Size([200, 10]), torch.Size([300, 10])],\n",
       " torch.Size([10, 10, 10]))"
      ]
     },
     "execution_count": 4,
     "metadata": {},
     "output_type": "execute_result"
    }
   ],
   "source": [
    "\n",
    "\n",
    "data, U, G = get_tensor(size, r)\n",
    "data.shape, [u.shape for u in U], G.shape"
   ]
  },
  {
   "cell_type": "code",
   "execution_count": 5,
   "metadata": {},
   "outputs": [],
   "source": [
    "noise = torch.normal(mean=0.0, std=1e-2, size=data.size(), dtype=torch.double)\n",
    "data += noise"
   ]
  },
  {
   "cell_type": "markdown",
   "metadata": {},
   "source": [
    "Почему задача не имеет смысла для полностью случайного тензора и зачем добавлять шум?"
   ]
  },
  {
   "cell_type": "markdown",
   "metadata": {},
   "source": [
    "*Ответ*: Разложение Такера нацелено на выделение паттернов в данных, и, благодаря этому, более компактному их представлению. В случае случайных же данных такое разложение не будет нести никакого смысла. Добавление шума важно для симмуляции реальных даных, которые зачастую зашумлены. В таком случае разложение Такера будет нацелено на выделение исходной внутреней структурой и исключении шума.\n"
   ]
  },
  {
   "cell_type": "markdown",
   "metadata": {},
   "source": [
    "## 2 Реализуем метод для восстановления тензора по разложению"
   ]
  },
  {
   "cell_type": "code",
   "execution_count": 6,
   "metadata": {},
   "outputs": [],
   "source": [
    "# Функция, восстанавливающая тензор по ядру и матрицам\n",
    "def repair_tensor(G_, U):\n",
    "  # data - восстановленный тензор из матриц и ядра\n",
    "  # U - список матриц\n",
    "  # G_ - ядро разложения\n",
    "\n",
    "  data = G_.clone()\n",
    "  for mode, factor_matrix in enumerate(U):\n",
    "    data = torch.tensordot(data, factor_matrix, dims=([0], [1]))\n",
    "  data = data.to(torch.double)\n",
    "\n",
    "  return data"
   ]
  },
  {
   "cell_type": "code",
   "execution_count": 7,
   "metadata": {},
   "outputs": [
    {
     "data": {
      "text/plain": [
       "torch.Size([100, 200, 300])"
      ]
     },
     "execution_count": 7,
     "metadata": {},
     "output_type": "execute_result"
    }
   ],
   "source": [
    "G = torch.rand(core_shape, dtype=torch.double)\n",
    "\n",
    "U = []\n",
    "for mode_size, core_dim in zip(size, core_shape):\n",
    "  factor_matrix = torch.rand((mode_size, core_dim), dtype=torch.double)\n",
    "  U.append(factor_matrix)\n",
    "\n",
    "data = repair_tensor(G, U)\n",
    "data.shape"
   ]
  },
  {
   "cell_type": "markdown",
   "metadata": {},
   "source": [
    "## 3 Сделаем разложение библиотечным методом"
   ]
  },
  {
   "cell_type": "code",
   "execution_count": null,
   "metadata": {},
   "outputs": [],
   "source": [
    "# ! pip3 install tensorly"
   ]
  },
  {
   "cell_type": "code",
   "execution_count": 8,
   "metadata": {},
   "outputs": [],
   "source": [
    "import tensorly as tl\n",
    "from tensorly.decomposition import tucker"
   ]
  },
  {
   "cell_type": "code",
   "execution_count": 9,
   "metadata": {},
   "outputs": [],
   "source": [
    "def lib_decompose(data):\n",
    "  tensor = tl.tensor(data.numpy())\n",
    "\n",
    "  core, factors = tucker(tensor, rank=core_shape)\n",
    "\n",
    "  core = torch.tensor(core, dtype=torch.double)\n",
    "  factors = [torch.tensor(factor, dtype=torch.double) for factor in factors]\n",
    "\n",
    "  return core, factors"
   ]
  },
  {
   "cell_type": "code",
   "execution_count": 10,
   "metadata": {},
   "outputs": [],
   "source": [
    "data, _, _ = get_tensor(size, r)\n",
    "\n",
    "core, factors = lib_decompose(data)\n",
    "\n",
    "rep_tensor = repair_tensor(core, factors)"
   ]
  },
  {
   "cell_type": "code",
   "execution_count": 11,
   "metadata": {},
   "outputs": [
    {
     "name": "stdout",
     "output_type": "stream",
     "text": [
      "Среднеквадратичная ошибка (MSE): 2.865153410053281e-28\n"
     ]
    }
   ],
   "source": [
    "mse = (data - rep_tensor).pow(2).sum() / data.numel()\n",
    "print(f\"Среднеквадратичная ошибка (MSE): {mse}\")"
   ]
  },
  {
   "cell_type": "code",
   "execution_count": 12,
   "metadata": {},
   "outputs": [],
   "source": [
    "# Библиотечный MSE\n",
    "def loss_eval(tensor1, tensor2):\n",
    "  tensor1_flat = tensor1.flatten()\n",
    "  tensor2_flat = tensor2.flatten()\n",
    "\n",
    "  mse = mean_squared_error(tensor1_flat.numpy(), tensor2_flat.numpy())\n",
    "\n",
    "  return mse"
   ]
  },
  {
   "cell_type": "code",
   "execution_count": 13,
   "metadata": {},
   "outputs": [
    {
     "name": "stdout",
     "output_type": "stream",
     "text": [
      "Среднеквадратичная ошибка (MSE): 2.865153410053281e-28\n"
     ]
    }
   ],
   "source": [
    "mse = loss_eval(data, rep_tensor)\n",
    "print(f\"Среднеквадратичная ошибка (MSE): {mse}\")"
   ]
  },
  {
   "cell_type": "markdown",
   "metadata": {},
   "source": [
    "## 4 Реализуем разложение градиентным методом"
   ]
  },
  {
   "cell_type": "markdown",
   "metadata": {},
   "source": [
    "### 4.1 Реализуем *optimizer*\n",
    "Можно взять из исходников *PyTorch* и отнаследоваться от *torch.optim.optimizer*.\n",
    "Используем квадратичный *Loss*."
   ]
  },
  {
   "cell_type": "code",
   "execution_count": 14,
   "metadata": {},
   "outputs": [],
   "source": [
    "import torch\n",
    "from torch.optim.optimizer import Optimizer\n",
    "\n",
    "\n",
    "class Opt(Optimizer):\n",
    "\n",
    "  def __init__(self, params, lr=1e-3):\n",
    "\n",
    "    defaults = {'lr': lr}\n",
    "    super().__init__(params, defaults)\n",
    "\n",
    "  def step(self):\n",
    "\n",
    "    for group in self.param_groups:\n",
    "      lr = group['lr']\n",
    "      for param in group['params']:\n",
    "        if param.grad is None:\n",
    "            continue\n",
    "\n",
    "        param.data -= lr * param.grad.data"
   ]
  },
  {
   "cell_type": "markdown",
   "metadata": {},
   "source": [
    "### 4.2 Реализуем цикл оптимизации параметров"
   ]
  },
  {
   "cell_type": "markdown",
   "metadata": {},
   "source": [
    "*Примечание*: параметры лучше оптимизировать сразу на GPU"
   ]
  },
  {
   "cell_type": "code",
   "execution_count": 29,
   "metadata": {},
   "outputs": [],
   "source": [
    "lr=5e-2\n",
    "num_iterations=30\n",
    "\n",
    "losses = []\n",
    "\n",
    "def sgd_decompose(data):\n",
    "\n",
    "  factors = []\n",
    "  for mode_size, core_dim in zip(size, core_shape):\n",
    "    factors.append(torch.rand((mode_size, core_dim), requires_grad=True))\n",
    "\n",
    "  core = torch.rand(core_shape, requires_grad=True)\n",
    "\n",
    "\n",
    "  optimizer = Opt([core] + factors, lr=lr)\n",
    "\n",
    "\n",
    "  for _ in range(num_iterations):\n",
    "    rep_tensor = repair_tensor(core, factors)\n",
    "    loss = (data - rep_tensor).pow(2).sum() / data.numel()\n",
    "\n",
    "    optimizer.zero_grad()\n",
    "    loss.backward()\n",
    "    optimizer.step()\n",
    "    \n",
    "    losses.append(loss.item())\n",
    "\n",
    "    # if iteration % 10 == 0:\n",
    "    #     print(f\"Iteration {iteration}, Loss: {loss.item()}\")\n",
    "\n",
    "  return loss"
   ]
  },
  {
   "cell_type": "code",
   "execution_count": 30,
   "metadata": {},
   "outputs": [
    {
     "name": "stdout",
     "output_type": "stream",
     "text": [
      "Среднеквадратичная ошибка (MSE): 1.0468283176657915\n"
     ]
    }
   ],
   "source": [
    "data, _, _ = get_tensor(size, r)\n",
    "\n",
    "loss = sgd_decompose(data)\n",
    "print(f\"Среднеквадратичная ошибка (MSE): {loss}\")"
   ]
  },
  {
   "cell_type": "code",
   "execution_count": 37,
   "metadata": {},
   "outputs": [
    {
     "data": {
      "image/png": "[encoded data removed]",
      "text/plain": [
       "<Figure size 640x480 with 1 Axes>"
      ]
     },
     "metadata": {},
     "output_type": "display_data"
    }
   ],
   "source": [
    "from matplotlib import pyplot as plt\n",
    "\n",
    "plt.title(\"Кривая обучения\")\n",
    "plt.xlabel(\"Номер иттерации\")\n",
    "plt.ylabel(\"Loss\")\n",
    "plt.plot(losses)\n",
    "plt.ylim(0,30)\n",
    "plt.xlim(5,29)\n",
    "plt.show()"
   ]
  },
  {
   "cell_type": "markdown",
   "metadata": {},
   "source": [
    "## 5 Сравним скорости работы и ошибки восстановления методом из пакета и реализованного градиентного"
   ]
  },
  {
   "cell_type": "code",
   "execution_count": 34,
   "metadata": {},
   "outputs": [],
   "source": [
    "lib_times = []\n",
    "sgd_times = []\n",
    "lib_mses = []\n",
    "sgd_mses = []\n",
    "\n",
    "for i in range(10):\n",
    "  data, _, _ = get_tensor(size, r)\n",
    "\n",
    "  start = time.time()\n",
    "  lib_core, lib_factors = lib_decompose(data)\n",
    "  lib_rep_tensor = repair_tensor(lib_core, lib_factors)\n",
    "  lib_mse = (data - rep_tensor).pow(2).sum() / data.numel()\n",
    "  end = time.time()\n",
    "\n",
    "  lib_times.append(end - start)\n",
    "  lib_mses.append(lib_mse)\n",
    "\n",
    "\n",
    "  start = time.time()\n",
    "  sgd_mse = sgd_decompose(data)\n",
    "  end = time.time()\n",
    "\n",
    "  sgd_times.append(end - start)\n",
    "  sgd_mses.append(sgd_mse)\n",
    "\n"
   ]
  },
  {
   "cell_type": "code",
   "execution_count": 35,
   "metadata": {},
   "outputs": [
    {
     "name": "stdout",
     "output_type": "stream",
     "text": [
      "Библиотечный метод:\n",
      "Среднее время: 0.8854606628417969\n",
      "Средняя ошибка: 1.058333333333306e-05\n",
      "\n",
      "Градиентный метод:\n",
      "Среднее время: 0.5566077709197998\n",
      "Средняя ошибка: 1.1303509745871005\n"
     ]
    }
   ],
   "source": [
    "lib_mses = [elem.detach().numpy() for elem in lib_mses]\n",
    "sgd_mses = [elem.detach().numpy() for elem in sgd_mses]\n",
    "\n",
    "print(f'Библиотечный метод:')\n",
    "print(f'Среднее время: {np.mean(lib_times)}')\n",
    "print(f'Средняя ошибка: {np.mean(lib_mses)}')\n",
    "print()\n",
    "print(f'Градиентный метод:')\n",
    "print(f'Среднее время: {np.mean(sgd_times)}')\n",
    "print(f'Средняя ошибка: {np.mean(sgd_mses)}')"
   ]
  },
  {
   "cell_type": "markdown",
   "metadata": {},
   "source": [
    "Вывод: библиотечный метод однозначно делает более точное разложение, однако, поигравшись с гипермараметрами градиентного метода, можно получить выиграш по времени работы алгоритма. При оптимальном подборе гиперметров можно достичь достаточно хорошего лосса градиентным методом (порядка 1). Для справедливой оценки, какое значение потерь является хорошим, а какое плохим, мы должны учесть специфику нашей задачи (такие как, числа в матрице от 0 до 9, размерность матрица 3). Для таких данных и используемого метода оценки (MSE) получим допустимый разборс лосса от 0 до 81. Т.к. размерности 3, то занчение лосса 27 будет соответствовать полному несоответствию таргета и посчитанного матрицы (результат алгоритма: абсолютно случайная матрица). Значит с нашим лоссом порядка 1 мы действительно получили хороший результат. Что касается выбора оптимальных гиперпараметров, то это довольно тонкая вещь, мы здесь подбирали шаг обучения и количество иттераций."
   ]
  },
  {
   "cell_type": "markdown",
   "metadata": {},
   "source": []
  }
 ],
 "metadata": {
  "kernelspec": {
   "display_name": "Python 3",
   "language": "python",
   "name": "python3"
  },
  "language_info": {
   "codemirror_mode": {
    "name": "ipython",
    "version": 3
   },
   "file_extension": ".py",
   "mimetype": "text/x-python",
   "name": "python",
   "nbconvert_exporter": "python",
   "pygments_lexer": "ipython3",
   "version": "3.9.6"
  }
 },
 "nbformat": 4,
 "nbformat_minor": 2
}
