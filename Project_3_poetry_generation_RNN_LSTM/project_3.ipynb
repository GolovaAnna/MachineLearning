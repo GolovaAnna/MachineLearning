{
 "cells": [
  {
   "cell_type": "markdown",
   "metadata": {},
   "source": [
    "## Poetry generation"
   ]
  },
  {
   "cell_type": "markdown",
   "metadata": {},
   "source": [
    "Main goal of the project - generate some poetry using RNNs. \n",
    "\n",
    "Here we use The Shakespeare sonnets as data for learning. So that, the result poetry will be in Shakespeare's style.\n",
    "\n",
    "File `sonnets.txt` is available in the notebook directory.\n",
    "\n",
    "Text generation can be designed in several steps:\n",
    "    \n",
    "1. Data loading.\n",
    "2. Dictionary generation.\n",
    "3. Data preprocessing.\n",
    "4. Model (neural network) training.\n",
    "5. Text generation (model evaluation).\n"
   ]
  },
  {
   "cell_type": "code",
   "execution_count": 1,
   "metadata": {},
   "outputs": [],
   "source": [
    "import string\n",
    "import os\n",
    "import numpy as np\n",
    "import matplotlib.pyplot as plt\n",
    "from tqdm import tqdm\n",
    "\n",
    "import torch, torch.nn as nn\n",
    "import torch.nn.functional as F"
   ]
  },
  {
   "cell_type": "markdown",
   "metadata": {},
   "source": [
    "### Data loading: Shakespeare"
   ]
  },
  {
   "cell_type": "markdown",
   "metadata": {},
   "source": [
    "Shakespeare sonnets are awailable at this [link](http://www.gutenberg.org/ebooks/1041?msg=welcome_stranger). In addition, they are stored in the same directory as this notebook (`sonnetes.txt`). Simple preprocessing is going in the next cell"
   ]
  },
  {
   "cell_type": "code",
   "execution_count": 2,
   "metadata": {
    "collapsed": true
   },
   "outputs": [],
   "source": [
    "with open('sonnets.txt', 'r') as iofile:\n",
    "    text = iofile.readlines()\n",
    "    \n",
    "TEXT_START = 45\n",
    "TEXT_END = -368\n",
    "text = text[TEXT_START : TEXT_END]\n",
    "assert len(text) == 2616"
   ]
  },
  {
   "cell_type": "markdown",
   "metadata": {},
   "source": [
    "We want to predict complex text, but let's simplify task and lowercase all the symbols.\n",
    "\n",
    "Now variable `text` is a list of strings."
   ]
  },
  {
   "cell_type": "code",
   "execution_count": 3,
   "metadata": {},
   "outputs": [
    {
     "name": "stdout",
     "output_type": "stream",
     "text": [
      "OK!\n"
     ]
    }
   ],
   "source": [
    "text = \"\".join(text)\n",
    "text = text.lower()\n",
    "\n",
    "assert len(text) == 100225, 'Are you sure you have concatenated all the strings?'\n",
    "assert not any([x in set(text) for x in string.ascii_uppercase]), 'Uppercase letters are present'\n",
    "print('OK!')"
   ]
  },
  {
   "cell_type": "markdown",
   "metadata": {},
   "source": [
    "Let's put all the characters from the text into variable `tokens`."
   ]
  },
  {
   "cell_type": "code",
   "execution_count": 4,
   "metadata": {},
   "outputs": [],
   "source": [
    "# Разбиваем на токены\n",
    "tokens = list(set(text))\n",
    "num_tokens = len(tokens)"
   ]
  },
  {
   "cell_type": "markdown",
   "metadata": {},
   "source": [
    "Create dictionary `token_to_idx = {<char>: <index>}` and dictionary `idx_to_token = {<index>: <char>}`"
   ]
  },
  {
   "cell_type": "code",
   "execution_count": 5,
   "metadata": {
    "collapsed": true
   },
   "outputs": [],
   "source": [
    "# dict <index>:<char>\n",
    "id_to_token = {idx: token for idx, token in enumerate(tokens)}\n",
    "# dict <char>:<index>\n",
    "token_to_id = {token: idx for idx, token in enumerate(tokens)}\n",
    "\n",
    "encoded_text = np.array([token_to_id[i] for i in text])"
   ]
  },
  {
   "cell_type": "markdown",
   "metadata": {},
   "source": [
    "*Comment: in this task we have only 38 different tokens, so let's use one-hot encoding.*"
   ]
  },
  {
   "cell_type": "code",
   "execution_count": 6,
   "metadata": {},
   "outputs": [],
   "source": [
    "# Создаем тренировочные данные\n",
    "def train_data(data, seq_len, batch_size):\n",
    "    pairs = []\n",
    "    n_batches = len(data) // (seq_len * batch_size)\n",
    "    data = data[:n_batches * seq_len * batch_size]\n",
    "    data = data.reshape((batch_size, -1))\n",
    "    for n in range(0, data.shape[1], seq_len):\n",
    "        x = data[:, n:n+seq_len]\n",
    "        y = np.roll(x, -1, axis=1)\n",
    "        x = torch.tensor(x, dtype=torch.long)\n",
    "        y = torch.tensor(y, dtype=torch.long)\n",
    "        pairs.append((x, y))\n",
    "\n",
    "    return pairs"
   ]
  },
  {
   "cell_type": "markdown",
   "metadata": {},
   "source": [
    "### Building the model"
   ]
  },
  {
   "cell_type": "markdown",
   "metadata": {},
   "source": [
    "Now we want to build and train recurrent neural net which would be able to something similar to Shakespeare's poetry.\n",
    "\n",
    "Let's use vanilla RNN"
   ]
  },
  {
   "cell_type": "code",
   "execution_count": 7,
   "metadata": {},
   "outputs": [],
   "source": [
    "# Параметры модели\n",
    "embed_size = 64\n",
    "rnn_hidden_size = 128\n",
    "num_layers = 1\n",
    "seq_length = 128\n",
    "batch_size = 64"
   ]
  },
  {
   "cell_type": "code",
   "execution_count": 8,
   "metadata": {},
   "outputs": [],
   "source": [
    "# RNN\n",
    "class CharRNNLoop(nn.Module):\n",
    "    def __init__(self, num_tokens, embed_size, rnn_hidden_size, num_layers):\n",
    "        super(CharRNNLoop, self).__init__()\n",
    "\n",
    "        self.embedding = nn.Embedding(num_tokens, embed_size)\n",
    "        self.rnn = nn.RNN(embed_size, rnn_hidden_size, num_layers, batch_first=True)\n",
    "        self.hid_to_logits = nn.Linear(rnn_hidden_size, num_tokens)\n",
    "    \n",
    "    def forward(self, x, hidden):\n",
    "        x = self.embedding(x)\n",
    "        h_seq, hidden = self.rnn(x, hidden)\n",
    "        h_seq = self.hid_to_logits(h_seq)\n",
    "        return h_seq, hidden\n",
    "    \n",
    "    # Изначальное скрытое состояние\n",
    "    def init_hidden(self, batch_size):\n",
    "        return torch.zeros(num_layers, batch_size, rnn_hidden_size, requires_grad=True)"
   ]
  },
  {
   "cell_type": "code",
   "execution_count": 9,
   "metadata": {},
   "outputs": [],
   "source": [
    "model_rnn = CharRNNLoop(num_tokens, embed_size, rnn_hidden_size, num_layers)\n",
    "optimizer = torch.optim.Adam(model_rnn.parameters())\n",
    "loss_func = nn.CrossEntropyLoss()\n",
    "history_rnn = []"
   ]
  },
  {
   "cell_type": "code",
   "execution_count": 10,
   "metadata": {},
   "outputs": [
    {
     "name": "stderr",
     "output_type": "stream",
     "text": [
      "  0%|          | 0/1000 [00:00<?, ?it/s]"
     ]
    },
    {
     "name": "stderr",
     "output_type": "stream",
     "text": [
      "100%|██████████| 1000/1000 [02:08<00:00,  7.77it/s]\n"
     ]
    }
   ],
   "source": [
    "# Обучение\n",
    "model_rnn.train()\n",
    "for epoch in tqdm(range(1000)):\n",
    "    hidden = model_rnn.init_hidden(batch_size)\n",
    "    pairs = train_data(encoded_text, seq_length, batch_size)\n",
    "    for x, y in pairs:\n",
    "        hidden = hidden.detach()\n",
    "        out, hidden = model_rnn(x, hidden)\n",
    "        loss = loss_func(out.reshape(-1, num_tokens), y.reshape(-1))\n",
    "\n",
    "        # Зануление градиентов на кажом шаге\n",
    "        optimizer.zero_grad()\n",
    "        # Обратное распространение loss\n",
    "        loss.backward()\n",
    "        optimizer.step()\n",
    "\n",
    "    history_rnn.append(loss.item())"
   ]
  },
  {
   "cell_type": "markdown",
   "metadata": {},
   "source": [
    "Plot the loss function (axis X: number of epochs, axis Y: loss function)."
   ]
  },
  {
   "cell_type": "code",
   "execution_count": 11,
   "metadata": {},
   "outputs": [
    {
     "data": {
      "image/png": "[encoded data removed]",
      "text/plain": [
       "<Figure size 640x480 with 1 Axes>"
      ]
     },
     "metadata": {},
     "output_type": "display_data"
    }
   ],
   "source": [
    "plt.plot(history_rnn, label='loss')\n",
    "plt.legend()\n",
    "plt.grid(True)\n",
    "plt.xlabel('Номер эпохи')\n",
    "plt.ylabel('loss')\n",
    "plt.title('Эволюция loss по меере увеличения количества эпох')\n",
    "plt.show()"
   ]
  },
  {
   "cell_type": "code",
   "execution_count": 12,
   "metadata": {},
   "outputs": [],
   "source": [
    "def generate_sample(model, seed_phrase='start ', max_length=500, temperature=1.0):\n",
    "    \n",
    "    model.eval()\n",
    "    hidden = model.init_hidden(1)\n",
    "    x_sequence = [token_to_id[token] for token in seed_phrase]\n",
    "    x_sequence = torch.tensor([x_sequence], dtype=torch.int64)\n",
    "    \n",
    "    generated_text = seed_phrase\n",
    "\n",
    "    for _ in range(max_length - len(seed_phrase)):\n",
    "        out, hidden = model(x_sequence, hidden)\n",
    "        p_next = F.softmax(out.squeeze().div(temperature), dim=-1)\n",
    "        next_ix = torch.multinomial(p_next, 1)[-1].item()\n",
    "        generated_text += id_to_token[next_ix]\n",
    "        # подадим новый токен next_ix на вход следующей иттерации\n",
    "        x_sequence = torch.tensor([[next_ix]], dtype=torch.int64)\n",
    "        \n",
    "    return generated_text"
   ]
  },
  {
   "cell_type": "code",
   "execution_count": 13,
   "metadata": {},
   "outputs": [
    {
     "name": "stdout",
     "output_type": "stream",
     "text": [
      "start leave the straight in mars' from thee;\n",
      "  why speak,\n",
      "      ank the world wink in the formance delights\n",
      "  my farth in my thou be discomp dost his glass thy self a tend,\n",
      "  in flatter!\n",
      "  the easurance offender look is br for love's lines on the state,\n",
      "  and he bad mind.\n",
      "  how many of 'wilt;\n",
      "    he gas ent and the pieft the summer that to know her infeck the warse,\n",
      "  reses none on mind and ill tear art care i replence hold the line,\n",
      "  the eyes are wentle right dobbsich mine, remeals and, that p\n"
     ]
    }
   ],
   "source": [
    "# пример сгенерированного текста\n",
    "print(generate_sample(model_rnn, max_length=500, temperature=1.0))"
   ]
  },
  {
   "cell_type": "markdown",
   "metadata": {},
   "source": [
    "Parameter `temperature` influences on probability distribution of tokens. The more temperature is the more simmilar to normal our distribution is"
   ]
  },
  {
   "cell_type": "code",
   "execution_count": 14,
   "metadata": {},
   "outputs": [
    {
     "name": "stdout",
     "output_type": "stream",
     "text": [
      "Temperature: 0.1\n",
      "start i conself of blookly doth some count of thee thou shalt the ease all thee in the sun in the sun in sweet love thee with the sun they so doth dear doth me dost thou art the lies,\n",
      "  have should al\n",
      "\n",
      "Temperature: 0.2\n",
      "start i constants of your self thou art not the enough thee with the lies,\n",
      "  which i constant to men the lessing that the world his not for my self the eyes have so recees not all thy beauty doth some\n",
      "\n",
      "Temperature: 0.5\n",
      "start in the world will happy thou art false give thee so for me world stands should all they with ment, but 'ight\n",
      "  and with love is a taker and love is their dateons;\n",
      "  when i can me thy beauty they\n",
      "\n",
      "Temperature: 1.0\n",
      "start of sighll'd,\n",
      "  on dear-consake your self that d thy obsequar all nothing they, i to copeis wooth, what my alow,\n",
      "  east to their moanday,\n",
      "  nor been thy self in seek! dranking do prove wonder to \n",
      "\n",
      "Temperature: 2.0\n",
      "start may me?\n",
      "  o! ty penl'trdly stoour'' ripe;\n",
      "  jorce! not revised sevorn:\n",
      "  for himol'st is pillgragnesp oftle quiet upbd-wide:\n",
      "  sail, whating ''fay thle thoc'w dny-than hucktoul: cault'd, or mo-m\n",
      "\n"
     ]
    }
   ],
   "source": [
    "for temperature in [0.1, 0.2, 0.5, 1.0, 2.0]:\n",
    "    print(f'Temperature: {temperature}')\n",
    "    print(generate_sample(model_rnn, max_length=200, temperature=temperature))\n",
    "    print()"
   ]
  },
  {
   "cell_type": "markdown",
   "metadata": {},
   "source": [
    "### More poetic model\n",
    "\n",
    "Let's use LSTM instead of vanilla RNN and compare the results. All intermidiate steps are the same as for RNN."
   ]
  },
  {
   "cell_type": "code",
   "execution_count": 15,
   "metadata": {},
   "outputs": [],
   "source": [
    "# Параметры модели\n",
    "embed_size = 64\n",
    "lstm_hidden_size = 128\n",
    "num_layers = 1\n",
    "seq_length = 128\n",
    "batch_size = 64"
   ]
  },
  {
   "cell_type": "code",
   "execution_count": 16,
   "metadata": {
    "collapsed": true
   },
   "outputs": [],
   "source": [
    "# LSTM\n",
    "class CharLSTMLoop(nn.Module):\n",
    "    def __init__(self, num_tokens, embed_size, lstm_hidden_size, num_layers):\n",
    "        super(CharLSTMLoop, self).__init__()\n",
    "\n",
    "        self.embedding = nn.Embedding(num_tokens, embed_size)\n",
    "        self.rnn = nn.LSTM(embed_size, lstm_hidden_size, num_layers, batch_first=True)\n",
    "        self.hid_to_logits = nn.Linear(lstm_hidden_size, num_tokens)\n",
    "    \n",
    "    def forward(self, x, hidden):\n",
    "        x = self.embedding(x)\n",
    "        h_seq, hidden = self.rnn(x, hidden)\n",
    "        h_seq = self.hid_to_logits(h_seq)\n",
    "        return h_seq, hidden\n",
    "    \n",
    "    # Изначальное скрытое состояние\n",
    "    def init_hidden(self, batch_size):\n",
    "        return (torch.zeros(num_layers, batch_size, lstm_hidden_size, requires_grad=True),\n",
    "                torch.zeros(num_layers, batch_size, lstm_hidden_size, requires_grad=True))"
   ]
  },
  {
   "cell_type": "code",
   "execution_count": 17,
   "metadata": {},
   "outputs": [],
   "source": [
    "model_lstm = CharLSTMLoop(num_tokens, embed_size, lstm_hidden_size, num_layers)\n",
    "optimizer_lstm = torch.optim.Adam(model_lstm.parameters())\n",
    "loss_func = nn.CrossEntropyLoss()\n",
    "\n",
    "history_lstm = []"
   ]
  },
  {
   "cell_type": "code",
   "execution_count": 18,
   "metadata": {},
   "outputs": [
    {
     "name": "stderr",
     "output_type": "stream",
     "text": [
      "100%|██████████| 1000/1000 [06:27<00:00,  2.58it/s]\n"
     ]
    }
   ],
   "source": [
    "# Обучение\n",
    "model_lstm.train()\n",
    "for epoch in tqdm(range(1000)):\n",
    "    hidden = model_lstm.init_hidden(batch_size)\n",
    "    pairs = train_data(encoded_text, seq_length, batch_size)\n",
    "    for x, y in pairs:\n",
    "        hidden = tuple([h.detach() for h in hidden])    \n",
    "        output, hidden = model_lstm(x, hidden)\n",
    "        loss = loss_func(output.reshape(-1, num_tokens), y.reshape(-1))\n",
    "\n",
    "        # Зануление градиентов на кажом шаге\n",
    "        optimizer_lstm.zero_grad()\n",
    "        # Обратное распространение loss\n",
    "        loss.backward()\n",
    "        optimizer_lstm.step()\n",
    "\n",
    "    history_lstm.append(loss.item())"
   ]
  },
  {
   "cell_type": "markdown",
   "metadata": {},
   "source": [
    "Let's plot the loss function of the number of epochs. Does the final loss become better?"
   ]
  },
  {
   "cell_type": "code",
   "execution_count": 19,
   "metadata": {},
   "outputs": [
    {
     "data": {
      "image/png": "[encoded data removed]",
      "text/plain": [
       "<Figure size 640x480 with 1 Axes>"
      ]
     },
     "metadata": {},
     "output_type": "display_data"
    }
   ],
   "source": [
    "plt.plot(history_rnn, label='Vanilla RNN')\n",
    "plt.plot(history_lstm, label='LSTM')\n",
    "plt.legend()\n",
    "plt.grid(True)\n",
    "plt.xlabel('Номер эпохи')\n",
    "plt.ylabel('loss')\n",
    "plt.title('Эволюция loss по мере увеличения количества эпох')\n",
    "plt.show()"
   ]
  },
  {
   "cell_type": "markdown",
   "metadata": {},
   "source": [
    "Starting from the 100th epoch LSTM model gives significantly better loss.\n",
    "Besides, loss curve for Vanilla RNN goes on a shelve already after 400th epoch"
   ]
  },
  {
   "cell_type": "code",
   "execution_count": 20,
   "metadata": {},
   "outputs": [],
   "source": [
    "def generate_sample(model, seed_phrase='start ', max_length=500, temperature=1.0):\n",
    "    \n",
    "    model.eval()\n",
    "    hidden = model.init_hidden(1)\n",
    "    x_sequence = [token_to_id[token] for token in seed_phrase]\n",
    "    x_sequence = torch.tensor([x_sequence], dtype=torch.int64)\n",
    "\n",
    "    generated_text = seed_phrase\n",
    "\n",
    "    for _ in range(max_length - len(seed_phrase)):\n",
    "        out, hidden = model(x_sequence, hidden)\n",
    "        p_next = F.softmax(out.squeeze().div(temperature), dim=-1)\n",
    "        next_ix = torch.multinomial(p_next, 1)[-1].item()\n",
    "        generated_text += id_to_token[next_ix]\n",
    "        # подадим новый токен next_ix на вход следующей иттерации\n",
    "        x_sequence = torch.tensor([[next_ix]], dtype=torch.int64)\n",
    "        \n",
    "    return generated_text"
   ]
  },
  {
   "cell_type": "code",
   "execution_count": 21,
   "metadata": {},
   "outputs": [
    {
     "name": "stdout",
     "output_type": "stream",
     "text": [
      "start now can still well.\n",
      "  in natue,\n",
      "  if winder's dassard's have grace;\n",
      " \n",
      "  another's true,\n",
      "  when sure that black and trmanded,\n",
      "  doth live to wire could his rice\n",
      "  to in this him with all true a keepy need\n",
      "  prowing and died not lear'd wo,\n",
      "  what dust speaking of worth do false remay;\n",
      "  fits died and i most and injudies no part,\n",
      "    'force i form days of pary to death:\n",
      "  his thrive of ever light knows have ares\n",
      "  if thou when i lay, is to my love,\n",
      "  that my limst in thy self art, and perse,\n",
      "\n"
     ]
    }
   ],
   "source": [
    "# пример сгенерированного текста\n",
    "print(generate_sample(model_lstm, max_length=500, temperature=1.0))"
   ]
  },
  {
   "cell_type": "markdown",
   "metadata": {},
   "source": [
    "Generate text using the trained net with different `temperature` parameter: `[0.1, 0.2, 0.5, 1.0, 2.0]`.\n",
    "\n",
    "We can evaluate the results visually and try to interpret them."
   ]
  },
  {
   "cell_type": "code",
   "execution_count": 22,
   "metadata": {
    "collapsed": true
   },
   "outputs": [
    {
     "name": "stdout",
     "output_type": "stream",
     "text": [
      "Temperature: 0.1\n",
      "start uple most.\n",
      "\n",
      "  v\n",
      "\n",
      "  to my lims that keepul sland,\n",
      "  as your face that is all my amiss,\n",
      "  and proud of thy sweet self a bred,\n",
      "    and that thou waste of self dost thou desire\n",
      "  that why doth in th\n",
      "------------------------------------------------------------\n",
      "start uple most.\n",
      "\n",
      "  v\n",
      "\n",
      "  to my lims that keepul sland,\n",
      "  as your face that wantull i am desire?\n",
      ", love, what down and think the widow do i not\n",
      "  to better part of souls, and yet thine own bad.\n",
      "\n",
      "  xxvi\n",
      "------------------------------------------------------------\n",
      "start uple most.\n",
      "\n",
      "  v\n",
      "\n",
      "  to my lims that pride so belies of thee.\n",
      "\n",
      "  lxxvi\n",
      "\n",
      "  is my love shall stars of love wast is thine\n",
      "  since each dotions im thy strail'd fair,\n",
      "  whilst i thou proves to be not s\n",
      "------------------------------------------------------------\n",
      "start uple most.\n",
      "\n",
      "  v\n",
      "\n",
      "  to my lims that keepul sland,\n",
      "  as your sweet form winder of say all intory,\n",
      "  whilst her eyel, which i have her party\n",
      "  to me than thou wilt love of thee.\n",
      "\n",
      "  lxxiv\n",
      "\n",
      "  benour,\n",
      "------------------------------------------------------------\n",
      "start uple most.\n",
      "\n",
      "  v\n",
      "\n",
      "  to my lims to breeds holy be they feath,\n",
      "  which every where that thou should not skill,\n",
      "  that i have grow it, lives and most.\n",
      "\n",
      "  lii\n",
      "\n",
      "  that which is so dead not flowers rid\n",
      "------------------------------------------------------------\n",
      "============================================================\n",
      "Temperature: 0.2\n",
      "start unk,\n",
      "  and you must carver, though in things of things shill;\n",
      "  my trut will much daver that which they leard\n",
      "  and stretce movide alone doth stay.\n",
      "  no mare where thou art thou prevalled know\n",
      " \n",
      "------------------------------------------------------------\n",
      "start uple most.\n",
      "\n",
      "  v\n",
      "\n",
      "  to my lims that keepul slave thee to sence:\n",
      "    but if this shall i counterfeit as youth,\n",
      "  and worses be themselves flower,\n",
      "  and was we to his self to the stars inglllom'd,\n",
      "\n",
      "------------------------------------------------------------\n",
      "start uple mostall lose.\n",
      "  love is not sweet buried words, and deceight to straint from thee,\n",
      "  whilst i thy beauty shall stature by do not,\n",
      "  and worse encused behane's brave thence dead.\n",
      "\n",
      "  cxii\n",
      "\n",
      "  \n",
      "------------------------------------------------------------\n",
      "start uple most.\n",
      "\n",
      "  v\n",
      "\n",
      "  to my lims that keepul sland,\n",
      "  as your sweet fear flowers are say comment;\n",
      "  but she muse of acquaintant increase,\n",
      "  whilst in thy sweet self too much croses.\n",
      "\n",
      "  lxxx\n",
      "\n",
      "  my m\n",
      "------------------------------------------------------------\n",
      "start uple most.\n",
      "\n",
      "  v\n",
      "\n",
      "  to my lims that keepul sland,\n",
      "  do i not sweet spies with find comment,\n",
      "  and lather that his blood and those words;\n",
      "  and in the summer's fresh remember less deserts.\n",
      "  but l\n",
      "------------------------------------------------------------\n",
      "============================================================\n",
      "Temperature: 0.5\n",
      "start unknow, ble not sweet seas,\n",
      "  for that say, within thine and thy sing,\n",
      "  and with this thou perfortunetime decay,\n",
      "  in do love, thou and such thou did his scane's crown;\n",
      "  for that body's ender \n",
      "------------------------------------------------------------\n",
      "start o'er datening,\n",
      "  or and where-thun your meas of all hurmakerss;\n",
      "  to truth prize with their with matious comments. bort;\n",
      "  and in the world may change doth secknow'd, y bear,\n",
      "  thy grace his ple\n",
      "------------------------------------------------------------\n",
      "start uple thine,\n",
      "  that is shall can i do itlends none!\n",
      "  and increased looks of thy blide, kise, but strength,\n",
      "  with of the world's succense of time's face,\n",
      "  but my lifes do you take me alone.\n",
      "\n",
      "  \n",
      "------------------------------------------------------------\n",
      "start uple most.\n",
      "\n",
      "  v\n",
      "\n",
      "  no longummn'sw's i not then no say,\n",
      "    and like a wilt hours and for ansight.\n",
      "\n",
      "  liv\n",
      "\n",
      "  as fad thoseefore the parts to trave wer to me,\n",
      "  and you may stars in the world be th\n",
      "------------------------------------------------------------\n",
      "start unk,\n",
      "  and you alter's wear thing year thievind\n",
      "  as i as the warping time to make thy know,\n",
      "  net, that which these touch mourned obthersequouds are,\n",
      "  if i have sweet love wel will batter'd.\n",
      " \n",
      "------------------------------------------------------------\n",
      "============================================================\n",
      "Temperature: 1.0\n",
      "start ere to thee,\n",
      "  as time of she be falsess to must a kingwers,\n",
      "  and your praise false issual great,--\n",
      "  whink, how hath debareds, merds of crow,\n",
      "  sife it thence the dead wantull ornament,\n",
      "  too \n",
      "------------------------------------------------------------\n",
      "start from faires are defect.\n",
      "\n",
      "  xxv\n",
      "\n",
      "  termstick me, true it is for flower foundind surse\n",
      "  than great knight, and do comped, drought;\n",
      "    yet so, let thee are fragme of delight?\n",
      "  as firmon much gro\n",
      "------------------------------------------------------------\n",
      "start and up to hiws,\n",
      "  through live, when it upon deserves a mother's prose,\n",
      "  if old all forsence that maked for tells, vixe,\n",
      "  silvening my fames my comment is,\n",
      "  nor that say that this comfort mig\n",
      "------------------------------------------------------------\n",
      "start and uplent;\n",
      "  no that thou hast well of time's complending?\n",
      "  o! nor hath elseward will be the stand,\n",
      "  the show from theirs true,' is his true,\n",
      "  that shape mind longer the very sate\n",
      "  and swee\n",
      "------------------------------------------------------------\n",
      "start so had, that feeds in jewel;\n",
      "    that hee seem thy faults away should alone:\n",
      "  fatherd thou be goily to this conceit,\n",
      "  or you to gloring shadow carfer age;\n",
      "  that doth you?- doth purition be to\n",
      "------------------------------------------------------------\n",
      "============================================================\n",
      "Temperature: 2.0\n",
      "start 'ges respected.--\n",
      "    whick, knaying higdslicinum'; all, o! 't me barre\n",
      " ins as the summer'd anged\n",
      "  toon from that holies me there lov'\n",
      "  to-knewaked, blus wight can like afoner'sy.\n",
      "    in hid \n",
      "------------------------------------------------------------\n",
      "start orofks\n",
      "    here sambal wel'd is now? lep tunge artsend?\n",
      "  how so, kind hour me yournol.\n",
      "\n",
      "  clii\n",
      "\n",
      "  my libinvy to heet,--re noteth tir's hatew might?\n",
      "  my fack with hanging hadveay cove's iche ge\n",
      "------------------------------------------------------------\n",
      "start upleh;\n",
      "  infrairs fillatancess dyly-purferixh pen;\n",
      "  droplly: sken 'gesty houg recenses, it,ory.\n",
      "  love'd toil, thus, like a men fal,\n",
      "  as to-kenew as me; and garvens,ow no lon'sh;\n",
      "  minded absi\n",
      "------------------------------------------------------------\n",
      "start undleaves degain,\n",
      "  hif itful tearly authorne, set on!\n",
      " wicial, t is these tair what thy ontross;\n",
      "  abher befteeding for finjyess ne rich is suph.\n",
      "\n",
      "  lviit:\n",
      "  even compare, and inquanot:h, dully\n",
      "------------------------------------------------------------\n",
      "start he the juddene.;\n",
      "    with an i morncasce,--ivagawh-chearer'd daw\n",
      "    so, my flme latched, mine own frown,rokes blam'd:\n",
      "  ruth seekse,-- add, whate, aignital.\n",
      "  lltune's treasuble'd, stark wixt y\n",
      "------------------------------------------------------------\n",
      "============================================================\n"
     ]
    }
   ],
   "source": [
    "# При маленьких темературах текст почти одинаковый, а при больших полный рандом\n",
    "for temperature in [0.1, 0.2, 0.5, 1.0, 2.0]:\n",
    "    print(f'Temperature: {temperature}')\n",
    "    for _ in range(5):\n",
    "        print(generate_sample(model_lstm, max_length=200, temperature=temperature))\n",
    "        print('-'*60)\n",
    "    print('='*60)"
   ]
  },
  {
   "cell_type": "markdown",
   "metadata": {},
   "source": [
    "### Interpretation of results: \n",
    "For low temperature we mostly have the same texts. We can often see such repeating parts as \"start uple most\" or \"to my lims that\". \n",
    "The text looks like the set of phrases that goes on by one, and each of them has only a few subsequent options. That makes a very limited number of different texts.\n",
    "\n",
    "With increasing temperature text becames more variable, but at high temperatures it looks like just a random sequence of chars.\n",
    "\n",
    "The best visible/readable text is with tempretaure = 1.0. Textes differes and still mostly use existing words.\n",
    "\n",
    "\n",
    "However, even with tempretaure = 1.0, the sense of text and logical narrative are still require improvement."
   ]
  },
  {
   "cell_type": "markdown",
   "metadata": {},
   "source": [
    "### References\n",
    "1. <a href='http://karpathy.github.io/2015/05/21/rnn-effectiveness/'> Andrew Karpathy blog post about RNN. </a> \n",
    "There are several examples of genration: Shakespeare texts, Latex formulas, Linux Sourse Code and children names.\n",
    "2. <a href='https://github.com/karpathy/char-rnn'> Repo with char-rnn code </a>\n",
    "3. Cool repo with PyTorch examples: [link](https://github.com/spro/practical-pytorch)"
   ]
  }
 ],
 "metadata": {
  "anaconda-cloud": {},
  "kernelspec": {
   "display_name": "Python 3",
   "language": "python",
   "name": "python3"
  },
  "language_info": {
   "codemirror_mode": {
    "name": "ipython",
    "version": 3
   },
   "file_extension": ".py",
   "mimetype": "text/x-python",
   "name": "python",
   "nbconvert_exporter": "python",
   "pygments_lexer": "ipython3",
   "version": "3.9.6"
  }
 },
 "nbformat": 4,
 "nbformat_minor": 2
}
